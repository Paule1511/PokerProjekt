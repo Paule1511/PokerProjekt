{
 "cells": [
  {
   "cell_type": "code",
   "execution_count": 449,
   "metadata": {},
   "outputs": [],
   "source": [
    "from time import time\n",
    "import random\n",
    "from math import factorial as fak"
   ]
  },
  {
   "cell_type": "code",
   "execution_count": 450,
   "metadata": {},
   "outputs": [],
   "source": [
    "RANKS = ['2', '3','4','5','6','7','8','9','10','J','Q','K','A']\n",
    "SUITS = ['H','S','D','T']"
   ]
  },
  {
   "cell_type": "code",
   "execution_count": 451,
   "metadata": {},
   "outputs": [],
   "source": [
    "def sortByHigh(combs):\n",
    "    for i in range(len(combs)):\n",
    "        for j in range(len(combs)-1):\n",
    "            if RANKS.index(combs[j][1:]) < RANKS.index(combs[j+1][1:]):\n",
    "                temp = combs[j]\n",
    "                combs[j] = combs[j+1]\n",
    "                combs[j+1] = temp"
   ]
  },
  {
   "cell_type": "code",
   "execution_count": 452,
   "metadata": {},
   "outputs": [],
   "source": [
    "def getHighFiveScoreFlush(comb, target):\n",
    "    score = 0\n",
    "    if comb:\n",
    "        sortByHigh(comb)\n",
    "        score = sum([RANKS.index(x[1:])+1 for x in comb if target in x][:5])\n",
    "    return score"
   ]
  },
  {
   "cell_type": "code",
   "execution_count": 453,
   "metadata": {},
   "outputs": [],
   "source": [
    "def getHand(cards):\n",
    "    cardIdx = random.randrange(0, len(cards))\n",
    "    return cards.pop(cardIdx)"
   ]
  },
  {
   "cell_type": "code",
   "execution_count": 454,
   "metadata": {},
   "outputs": [],
   "source": [
    "def countRanks(items):\n",
    "    countList = [0 for _ in range(0,len(RANKS))]\n",
    "    for i in items:\n",
    "        countList[RANKS.index(i[1:])] += 1\n",
    "    return countList"
   ]
  },
  {
   "cell_type": "code",
   "execution_count": 455,
   "metadata": {},
   "outputs": [],
   "source": [
    "def countSuits(items):\n",
    "    countList = [0 for _ in range(0,len(SUITS))]\n",
    "    for i in items:\n",
    "        countList[SUITS.index(i[0])] += 1\n",
    "    return countList"
   ]
  },
  {
   "cell_type": "code",
   "execution_count": 456,
   "metadata": {},
   "outputs": [],
   "source": [
    "def getPairAndTwoPair(combination):\n",
    "    score = 0\n",
    "    rankList = []\n",
    "    countList = countRanks(combination)\n",
    "    for i in range(2):\n",
    "        maxNum = max(countList)\n",
    "        mostRepIdx = countList.index(maxNum)\n",
    "        if maxNum == 2:\n",
    "            rankList.append(RANKS[mostRepIdx])\n",
    "            if i == 1:\n",
    "                score += (mostRepIdx+1) * 100 + 2000\n",
    "            else:\n",
    "                score +=  (mostRepIdx+1) * 100\n",
    "        countList[mostRepIdx] = 0\n",
    "    return score, rankList"
   ]
  },
  {
   "cell_type": "code",
   "execution_count": 457,
   "metadata": {},
   "outputs": [],
   "source": [
    "def getThree(combination):\n",
    "    score = 0\n",
    "    rankList = []\n",
    "    countList = countRanks(combination)\n",
    "    maxNum = max(countList)\n",
    "    mostRepIdx = countList.index(maxNum)\n",
    "    if maxNum == 3:\n",
    "        score = (mostRepIdx+1) * 100 + 5000\n",
    "        rankList.append(RANKS[mostRepIdx])\n",
    "    return score, rankList"
   ]
  },
  {
   "cell_type": "code",
   "execution_count": 462,
   "metadata": {},
   "outputs": [],
   "source": [
    "def getQuad(combination):\n",
    "    score = 0\n",
    "    rankList = []\n",
    "    countList = countRanks(combination)\n",
    "    maxNum = max(countList)\n",
    "    mostRepIdx = countList.index(maxNum)\n",
    "    if maxNum == 4:\n",
    "        score = (mostRepIdx+1) * 100 + 116000\n",
    "        rankList.append(RANKS[mostRepIdx])\n",
    "    return score, rankList"
   ]
  },
  {
   "cell_type": "code",
   "execution_count": 458,
   "metadata": {},
   "outputs": [],
   "source": [
    "def getFullHouse(combination):\n",
    "    score, comb = getThree(combination)\n",
    "    score2, comb2 = getPairAndTwoPair(combination)\n",
    "    if score and score2:\n",
    "        return score*15 + score2 + 18000, comb+comb2\n",
    "    return 0, []"
   ]
  },
  {
   "cell_type": "code",
   "execution_count": 459,
   "metadata": {},
   "outputs": [],
   "source": [
    "def getFlush(combination):\n",
    "    score = 0\n",
    "    rankList = []\n",
    "    countList = countSuits(combination)\n",
    "    maxNum = max(countList)\n",
    "    mostRepIdx = countList.index(maxNum)\n",
    "    if maxNum >= 5:\n",
    "        score = getHighFiveScoreFlush(combination, SUITS[mostRepIdx]) * 100 + 12500\n",
    "        rankList.append(SUITS[mostRepIdx])\n",
    "    return score, rankList"
   ]
  },
  {
   "cell_type": "code",
   "execution_count": 460,
   "metadata": {},
   "outputs": [],
   "source": [
    "def getStraight(combination):\n",
    "    street = []\n",
    "    for i in range(len(RANKS)-1, -1, -1):\n",
    "        score = 0\n",
    "        street = []\n",
    "        if [x for x in combination if RANKS[i] in x and i > 2]:\n",
    "            street += [RANKS[i]]\n",
    "            score += i+1\n",
    "            for j in range(i-1, i-5, -1):\n",
    "                if (not [x for x in combination if RANKS[j] in x]) and j != -1:\n",
    "                    break\n",
    "                if j==-1:\n",
    "                    score+=0\n",
    "                score += j+1\n",
    "                street += [RANKS[j]]\n",
    "            else:\n",
    "                break\n",
    "    if score:\n",
    "        return (score*100)+7000, street\n",
    "    return 0, []"
   ]
  },
  {
   "cell_type": "code",
   "execution_count": 461,
   "metadata": {},
   "outputs": [],
   "source": [
    "def getStraightFlush(combination):\n",
    "    comb2=[]\n",
    "    combOut = []\n",
    "    score, comb = getStraight(combination)\n",
    "    if score:\n",
    "        for i in comb:\n",
    "            comb2 += [x for x in combination if i in x]\n",
    "        score2, comb2 = getFlush(comb2)\n",
    "        if score2:\n",
    "            for i in comb:\n",
    "                combOut += [x for x in combination if i in x and comb2[0] in x]\n",
    "            return (score*15+score2+118000), combOut\n",
    "    return 0, []"
   ]
  },
  {
   "cell_type": "code",
   "execution_count": 463,
   "metadata": {},
   "outputs": [],
   "source": [
    "def createDeck():\n",
    "    cards = []\n",
    "    c = 0\n",
    "    for i in range(0, 4):\n",
    "        for j in range(0,13):\n",
    "            cards.append(SUITS[i] + RANKS[j])\n",
    "            c += 1\n",
    "    return cards"
   ]
  },
  {
   "cell_type": "code",
   "execution_count": 464,
   "metadata": {},
   "outputs": [
    {
     "name": "stdout",
     "output_type": "stream",
     "text": [
      "['S9', 'SQ', 'HA', 'TQ', 'DA', 'D9', 'HQ']\n",
      "112300 ['Q', '9']\n",
      "0.0004973411560058594\n"
     ]
    }
   ],
   "source": [
    "start = time()\n",
    "for i in range(100000):\n",
    "    cards = createDeck()\n",
    "    MyCards = ['S9', 'SQ', 'HA', 'TQ', 'DA', 'D9', 'HQ'] #[getHand(cards) for _ in range(0, 7)]\n",
    "    score, comb = getPairAndTwoPair(MyCards)\n",
    "    score, comb = getThree(MyCards)\n",
    "    score, comb = getStraight(MyCards)\n",
    "    score, comb = getFullHouse(MyCards)\n",
    "    if score:\n",
    "        break\n",
    "    score, comb = getQuad(MyCards)\n",
    "    score, comb = getStraightFlush(MyCards)\n",
    "    score, comb = getFlush(MyCards)\n",
    "\n",
    "print(MyCards)\n",
    "print(score, comb)\n",
    "print(time()-start)"
   ]
  }
 ],
 "metadata": {
  "kernelspec": {
   "display_name": "env_directml",
   "language": "python",
   "name": "python3"
  },
  "language_info": {
   "codemirror_mode": {
    "name": "ipython",
    "version": 3
   },
   "file_extension": ".py",
   "mimetype": "text/x-python",
   "name": "python",
   "nbconvert_exporter": "python",
   "pygments_lexer": "ipython3",
   "version": "3.10.13"
  }
 },
 "nbformat": 4,
 "nbformat_minor": 2
}
